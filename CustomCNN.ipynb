{
 "cells": [
  {
   "cell_type": "code",
   "execution_count": 1,
   "id": "963b2963-6581-4fc0-a3f1-f1f095836af6",
   "metadata": {},
   "outputs": [],
   "source": [
    "import keras\n",
    "import tensorflow\n",
    "from tensorflow.keras.preprocessing.image import ImageDataGenerator\n",
    "from tensorflow.keras.optimizers import Adam\n",
    "from tensorflow.keras.callbacks import ModelCheckpoint\n",
    "from matplotlib import pyplot as plt\n",
    "from tensorflow.keras.preprocessing import image\n",
    "import numpy as np\n",
    "import math\n",
    "import sklearn"
   ]
  },
  {
   "cell_type": "code",
   "execution_count": 2,
   "id": "477712ce-f9a7-4b42-86d7-2e6742443423",
   "metadata": {},
   "outputs": [],
   "source": [
    "# from tensorflow.keras.preprocessing.image import ImageDataGenerator\n",
    "\n",
    "# Define the ImageDataGenerator instance with data augmentation\n",
    "datagen = ImageDataGenerator(\n",
    "    rescale=1./255,               # Normalize pixel values to [0, 1]\n",
    "    rotation_range=40,            # Rotate images randomly by up to 40 degrees\n",
    "    width_shift_range=0.2,        # Shift images horizontally by up to 20% of the width\n",
    "    height_shift_range=0.2,       # Shift images vertically by up to 20% of the height\n",
    "    shear_range=0.2,              # Apply random shearing transformations\n",
    "    zoom_range=0.2,               # Zoom into images randomly\n",
    "    horizontal_flip=True,         # Flip images horizontally\n",
    "    fill_mode='nearest',          # Fill new pixels with nearest value\n",
    "    validation_split=0.2          # Reserve 20% of data for validation\n",
    ")\n",
    "\n",
    "\n"
   ]
  },
  {
   "cell_type": "code",
   "execution_count": 3,
   "id": "735fe8f0-54ee-4a26-bdf7-8cbba1af8fe1",
   "metadata": {},
   "outputs": [],
   "source": [
    "classes=[\"Biodegradable\",\"Non-biodegradable\"]"
   ]
  },
  {
   "cell_type": "code",
   "execution_count": 4,
   "id": "7dbf0c82-e449-4dee-a580-003c82baf753",
   "metadata": {},
   "outputs": [],
   "source": [
    "\n",
    "import matplotlib.pyplot as plt\n",
    "\n",
    "\n",
    "def plot_augmented_images(images_arr, labels):\n",
    "\n",
    "    fig, axes = plt.subplots(1, 5, figsize=(20, 20))\n",
    "    axes = axes.flatten()  \n",
    "    \n",
    "    for img, ax, label in zip(images_arr, axes, labels):\n",
    "        \n",
    "        ax.imshow(img)\n",
    "        ax.set_title(classes[math.ceil(label)])  \n",
    "        ax.axis('off')  \n",
    "    \n",
    "    plt.tight_layout()\n",
    "    plt.show()\n",
    "\n",
    "    "
   ]
  },
  {
   "cell_type": "code",
   "execution_count": 5,
   "id": "2d0b9348-e177-46c4-b2db-1ce799d2fe8e",
   "metadata": {},
   "outputs": [
    {
     "name": "stdout",
     "output_type": "stream",
     "text": [
      "Found 24737 images belonging to 2 classes.\n",
      "Found 24737 images belonging to 2 classes.\n"
     ]
    }
   ],
   "source": [
    "# # Create a training data generator\n",
    "# initial_generator = datagen.flow_from_directory(\n",
    "#     \"Dataset//train\", \n",
    "#     target_size=(64, 64),   # Resize images to 64x64\n",
    "#     batch_size=1,          \n",
    "#     class_mode='binary',  \n",
    "#     shuffle=False           \n",
    "# )\n",
    "\n",
    "total_images = len(initial_generator.filenames)\n",
    "\n",
    "train_generator = datagen.flow_from_directory(\n",
    "    \"Dataset//train\",\n",
    "    target_size=(64, 64),   # Resize images to 64x64\n",
    "    batch_size=total_images, \n",
    "    class_mode='binary',  \n",
    "    shuffle=False           \n",
    ")\n",
    "\n"
   ]
  },
  {
   "cell_type": "code",
   "execution_count": 6,
   "id": "144652ae-b623-4fc7-9ffc-8987f460114e",
   "metadata": {},
   "outputs": [],
   "source": [
    "# # Load a single image to visualize augmentations\n",
    "# img_path = 'path_to_a_single_image.jpg'\n",
    "# img = tf.keras.preprocessing.image.load_img(img_path, target_size=(64, 64))\n",
    "# x = tf.keras.preprocessing.image.img_to_array(img)\n",
    "# x = x.reshape((1,) + x.shape)\n",
    "\n",
    "# # Generate augmented images\n",
    "# i = 0\n",
    "# for batch in datagen.flow(x, batch_size=1):\n",
    "#     plt.figure(i)\n",
    "#     imgplot = plt.imshow(batch[0].astype('uint8'))\n",
    "#     i += 1\n",
    "#     if i % 5 == 0:  # Display 5 images\n",
    "#         break\n",
    "\n",
    "# plt.show()"
   ]
  },
  {
   "cell_type": "code",
   "execution_count": 7,
   "id": "80bb2c16-4b46-4ae2-97b5-ab19b622945e",
   "metadata": {},
   "outputs": [
    {
     "data": {
      "text/plain": [
       "{'B': 0, 'N': 1}"
      ]
     },
     "execution_count": 7,
     "metadata": {},
     "output_type": "execute_result"
    }
   ],
   "source": [
    "train_generator.class_indices"
   ]
  },
  {
   "cell_type": "code",
   "execution_count": 8,
   "id": "cb02b331-d6c0-4f11-8035-2cfa53c9a550",
   "metadata": {},
   "outputs": [
    {
     "data": {
      "text/plain": [
       "keras.src.legacy.preprocessing.image.DirectoryIterator"
      ]
     },
     "execution_count": 8,
     "metadata": {},
     "output_type": "execute_result"
    }
   ],
   "source": [
    "type(train_generator)"
   ]
  },
  {
   "cell_type": "code",
   "execution_count": 9,
   "id": "c91c5aa7-5e11-4056-9821-bf34326e7dc3",
   "metadata": {},
   "outputs": [],
   "source": [
    "from PIL import ImageFile\n",
    "ImageFile.LOAD_TRUNCATED_IMAGES = True"
   ]
  },
  {
   "cell_type": "code",
   "execution_count": 10,
   "id": "6c3eb1c6-46f9-4ddd-8421-88af20ef85b6",
   "metadata": {},
   "outputs": [
    {
     "name": "stderr",
     "output_type": "stream",
     "text": [
      "c:\\Users\\Nilang\\AppData\\Local\\Programs\\Python\\Python311\\Lib\\site-packages\\PIL\\Image.py:1000: UserWarning: Palette images with Transparency expressed in bytes should be converted to RGBA images\n",
      "  warnings.warn(\n"
     ]
    },
    {
     "data": {
      "text/plain": [
       "(24737, 64, 64, 3)"
      ]
     },
     "execution_count": 10,
     "metadata": {},
     "output_type": "execute_result"
    }
   ],
   "source": [
    "images,labels=next(train_generator)\n",
    "images.shape\n",
    "# labels[:5]"
   ]
  },
  {
   "cell_type": "code",
   "execution_count": 11,
   "id": "e0a4e998-e850-4c9b-bb46-8b1cb4f40886",
   "metadata": {},
   "outputs": [
    {
     "data": {
      "image/png": "[encoded data removed]",
      "text/plain": [
       "<Figure size 2000x2000 with 5 Axes>"
      ]
     },
     "metadata": {},
     "output_type": "display_data"
    }
   ],
   "source": [
    "plot_augmented_images(images,labels)\n"
   ]
  },
  {
   "cell_type": "code",
   "execution_count": 12,
   "id": "61fccc15-1046-4552-98b2-41791063c226",
   "metadata": {},
   "outputs": [
    {
     "data": {
      "text/plain": [
       "array([0., 0., 0., ..., 1., 1., 1.], dtype=float32)"
      ]
     },
     "execution_count": 12,
     "metadata": {},
     "output_type": "execute_result"
    }
   ],
   "source": [
    "labels"
   ]
  },
  {
   "cell_type": "code",
   "execution_count": 13,
   "id": "cb857ceb-cba2-4e69-a41f-ba4eb45de1f3",
   "metadata": {},
   "outputs": [
    {
     "data": {
      "image/png": "[encoded data removed]",
      "text/plain": [
       "<Figure size 640x480 with 1 Axes>"
      ]
     },
     "metadata": {},
     "output_type": "display_data"
    }
   ],
   "source": [
    "import seaborn as sns\n",
    "sns.countplot(x = labels)\n",
    "plt.title(\"Class Distribution\")\n",
    "plt.xlabel(\"Class Names\")\n",
    "plt.ylabel(\"Count\")\n",
    "plt.show()"
   ]
  },
  {
   "cell_type": "code",
   "execution_count": 14,
   "id": "1e8c45fe-2c0f-4fe5-8646-753f935b6113",
   "metadata": {},
   "outputs": [],
   "source": [
    "from sklearn.model_selection import train_test_split\n",
    "\n",
    "X_train, X_test, y_train, y_test = train_test_split(images, labels, test_size=0.2, random_state=42)\n",
    "\n"
   ]
  },
  {
   "cell_type": "code",
   "execution_count": 15,
   "id": "5172c5f3-1e58-4296-9fcc-909cfdbafc8d",
   "metadata": {},
   "outputs": [
    {
     "data": {
      "text/plain": [
       "array([[[0.6995462 , 0.5779776 , 0.4039216 ],\n",
       "        [0.7151611 , 0.59560674, 0.42507207],\n",
       "        [0.7450919 , 0.6290589 , 0.46204546],\n",
       "        ...,\n",
       "        [0.8287271 , 0.6797075 , 0.35472775],\n",
       "        [0.82069266, 0.6750522 , 0.35632038],\n",
       "        [0.82888407, 0.6868781 , 0.37850717]],\n",
       "\n",
       "       [[0.7071891 , 0.58562046, 0.40457493],\n",
       "        [0.7036678 , 0.5820992 , 0.4039216 ],\n",
       "        [0.7001465 , 0.5785779 , 0.4039216 ],\n",
       "        ...,\n",
       "        [0.824261  , 0.67683643, 0.3545362 ],\n",
       "        [0.8235315 , 0.6797413 , 0.36601785],\n",
       "        [0.82524824, 0.6820303 , 0.37104434]],\n",
       "\n",
       "       [[0.7153852 , 0.5938166 , 0.41005608],\n",
       "        [0.7113107 , 0.58974206, 0.40663573],\n",
       "        [0.7077894 , 0.5862208 , 0.40487513],\n",
       "        ...,\n",
       "        [0.8205605 , 0.6749862 , 0.35638645],\n",
       "        [0.82908225, 0.68714225, 0.3789695 ],\n",
       "        [0.8141469 , 0.66722846, 0.34699133]],\n",
       "\n",
       "       ...,\n",
       "\n",
       "       [[0.7882368 , 0.6894844 , 0.42103416],\n",
       "        [0.8248074 , 0.7228466 , 0.429155  ],\n",
       "        [0.83418334, 0.731806  , 0.4427207 ],\n",
       "        ...,\n",
       "        [0.67755234, 0.5677484 , 0.40410864],\n",
       "        [0.68625593, 0.576452  , 0.4172065 ],\n",
       "        [0.67745274, 0.5676488 , 0.3943182 ]],\n",
       "\n",
       "       [[0.8085894 , 0.7079867 , 0.42473462],\n",
       "        [0.83035815, 0.72839737, 0.43655592],\n",
       "        [0.8193815 , 0.71145344, 0.43717003],\n",
       "        ...,\n",
       "        [0.6348533 , 0.5267944 , 0.32984346],\n",
       "        [0.65076184, 0.5409579 , 0.35464922],\n",
       "        [0.67365015, 0.56384623, 0.39690456]],\n",
       "\n",
       "       [[0.8250056 , 0.7230448 , 0.4294192 ],\n",
       "        [0.833655  , 0.7310795 , 0.4425226 ],\n",
       "        [0.8045796 , 0.6911009 , 0.43161932],\n",
       "        ...,\n",
       "        [0.6149738 , 0.5099236 , 0.3106959 ],\n",
       "        [0.62454927, 0.52061194, 0.3216002 ],\n",
       "        [0.6333525 , 0.5258938 , 0.3286428 ]]], dtype=float32)"
      ]
     },
     "execution_count": 15,
     "metadata": {},
     "output_type": "execute_result"
    }
   ],
   "source": [
    "X_train[0]"
   ]
  },
  {
   "cell_type": "code",
   "execution_count": 16,
   "id": "5335b945-ad93-48f7-8958-a43d945b2c9f",
   "metadata": {},
   "outputs": [
    {
     "data": {
      "text/plain": [
       "(19789, 64, 64, 3)"
      ]
     },
     "execution_count": 16,
     "metadata": {},
     "output_type": "execute_result"
    }
   ],
   "source": [
    "X_train.shape"
   ]
  },
  {
   "cell_type": "code",
   "execution_count": 17,
   "id": "8f41c95c-05a7-49c2-95a8-5a7dbbd437a6",
   "metadata": {},
   "outputs": [
    {
     "data": {
      "text/plain": [
       "(4948, 64, 64, 3)"
      ]
     },
     "execution_count": 17,
     "metadata": {},
     "output_type": "execute_result"
    }
   ],
   "source": [
    "X_test.shape"
   ]
  },
  {
   "cell_type": "code",
   "execution_count": 18,
   "id": "f4052e5f-b197-48b3-83e6-05024784801a",
   "metadata": {},
   "outputs": [
    {
     "name": "stdout",
     "output_type": "stream",
     "text": [
      "Found 1201 images belonging to 2 classes.\n"
     ]
    }
   ],
   "source": [
    "val_generator = datagen.flow_from_directory(\n",
    "    'Dataset/val',\n",
    "    target_size=(64, 64),\n",
    "    batch_size=32,\n",
    "    class_mode='binary'\n",
    ")"
   ]
  },
  {
   "cell_type": "code",
   "execution_count": null,
   "id": "799c8ca6-e4fa-4994-9fc7-c68152f6458e",
   "metadata": {},
   "outputs": [],
   "source": [
    "\n"
   ]
  },
  {
   "cell_type": "code",
   "execution_count": 19,
   "id": "e7dd1a7d-a260-42cb-9a89-9faba0621f94",
   "metadata": {},
   "outputs": [],
   "source": [
    "from tensorflow.keras import Sequential\n",
    "from tensorflow.keras.layers import Input, Flatten, Dense,Dropout\n",
    "\n",
    "ann = Sequential([\n",
    "    Input(shape=(64, 64, 3)),  \n",
    "    Flatten(),                   \n",
    "    Dense(1200, activation='relu'),\n",
    "    Dropout(0.5),\n",
    "    Dense(300, activation='relu'),\n",
    "    Dense(1, activation='sigmoid'),  \n",
    "])\n"
   ]
  },
  {
   "cell_type": "code",
   "execution_count": 20,
   "id": "202fb61e-bafd-4c68-9de8-52bbb2c400b8",
   "metadata": {},
   "outputs": [],
   "source": [
    "learning_rate=0.00012\n",
    "optimizer = Adam(learning_rate=learning_rate)\n",
    "ann.compile(\n",
    "    optimizer=optimizer,              \n",
    "    loss='binary_crossentropy',       \n",
    "    metrics=['accuracy']# Evaluate the model using accuracy\n",
    ")"
   ]
  },
  {
   "cell_type": "code",
   "execution_count": 21,
   "id": "c186ed8a-f3d3-4585-94c9-9eb69131748f",
   "metadata": {
    "scrolled": true
   },
   "outputs": [
    {
     "name": "stdout",
     "output_type": "stream",
     "text": [
      "Epoch 1/5\n",
      "\u001b[1m619/619\u001b[0m \u001b[32m━━━━━━━━━━━━━━━━━━━━\u001b[0m\u001b[37m\u001b[0m \u001b[1m47s\u001b[0m 73ms/step - accuracy: 0.6983 - loss: 0.6082\n",
      "Epoch 2/5\n",
      "\u001b[1m619/619\u001b[0m \u001b[32m━━━━━━━━━━━━━━━━━━━━\u001b[0m\u001b[37m\u001b[0m \u001b[1m49s\u001b[0m 78ms/step - accuracy: 0.7769 - loss: 0.4812\n",
      "Epoch 3/5\n",
      "\u001b[1m619/619\u001b[0m \u001b[32m━━━━━━━━━━━━━━━━━━━━\u001b[0m\u001b[37m\u001b[0m \u001b[1m49s\u001b[0m 79ms/step - accuracy: 0.7872 - loss: 0.4584\n",
      "Epoch 4/5\n",
      "\u001b[1m619/619\u001b[0m \u001b[32m━━━━━━━━━━━━━━━━━━━━\u001b[0m\u001b[37m\u001b[0m \u001b[1m47s\u001b[0m 75ms/step - accuracy: 0.8025 - loss: 0.4459\n",
      "Epoch 5/5\n",
      "\u001b[1m619/619\u001b[0m \u001b[32m━━━━━━━━━━━━━━━━━━━━\u001b[0m\u001b[37m\u001b[0m \u001b[1m48s\u001b[0m 77ms/step - accuracy: 0.8054 - loss: 0.4356\n"
     ]
    }
   ],
   "source": [
    "ann.fit(X_train,y_train,epochs=5,batch_size=32);"
   ]
  },
  {
   "cell_type": "code",
   "execution_count": 22,
   "id": "27a14aa5-b083-43d4-a033-2592dce98738",
   "metadata": {},
   "outputs": [
    {
     "data": {
      "text/plain": [
       "array([0., 0., 0., ..., 1., 1., 1.], dtype=float32)"
      ]
     },
     "execution_count": 22,
     "metadata": {},
     "output_type": "execute_result"
    }
   ],
   "source": [
    "labels"
   ]
  },
  {
   "cell_type": "code",
   "execution_count": 23,
   "id": "05e7267e-f835-4aea-beab-430d2ffb5ce7",
   "metadata": {},
   "outputs": [
    {
     "name": "stdout",
     "output_type": "stream",
     "text": [
      "\u001b[1m155/155\u001b[0m \u001b[32m━━━━━━━━━━━━━━━━━━━━\u001b[0m\u001b[37m\u001b[0m \u001b[1m1s\u001b[0m 6ms/step - accuracy: 0.8345 - loss: 0.4131\n"
     ]
    },
    {
     "data": {
      "text/plain": [
       "[0.42317864298820496, 0.82780921459198]"
      ]
     },
     "execution_count": 23,
     "metadata": {},
     "output_type": "execute_result"
    }
   ],
   "source": [
    "ann.evaluate(X_test,y_test)"
   ]
  },
  {
   "cell_type": "code",
   "execution_count": 24,
   "id": "6c8f8d0a-02b5-4933-9f87-bf52be2f9718",
   "metadata": {},
   "outputs": [
    {
     "name": "stdout",
     "output_type": "stream",
     "text": [
      "\u001b[1m155/155\u001b[0m \u001b[32m━━━━━━━━━━━━━━━━━━━━\u001b[0m\u001b[37m\u001b[0m \u001b[1m1s\u001b[0m 6ms/step\n",
      "              precision    recall  f1-score   support\n",
      "\n",
      "         0.0       0.81      0.88      0.84      2601\n",
      "         1.0       0.86      0.77      0.81      2347\n",
      "\n",
      "    accuracy                           0.83      4948\n",
      "   macro avg       0.83      0.82      0.83      4948\n",
      "weighted avg       0.83      0.83      0.83      4948\n",
      "\n"
     ]
    }
   ],
   "source": [
    "from sklearn.metrics import classification_report\n",
    "\n",
    "y_pred = (ann.predict(X_test) > 0.5).astype(\"int32\")\n",
    "\n",
    "report = classification_report(y_test, y_pred, zero_division=1)\n",
    "print(report) \n"
   ]
  },
  {
   "cell_type": "code",
   "execution_count": 25,
   "id": "e51dee81-7843-4e87-9b97-a64af405a33d",
   "metadata": {},
   "outputs": [
    {
     "data": {
      "image/png": "[encoded data removed]",
      "text/plain": [
       "<Figure size 800x600 with 1 Axes>"
      ]
     },
     "metadata": {},
     "output_type": "display_data"
    }
   ],
   "source": [
    "\n",
    "from sklearn.metrics import confusion_matrix\n",
    "\n",
    "cm = confusion_matrix(y_test, y_pred)\n",
    "\n",
    "plt.figure(figsize=(8, 6))\n",
    "sns.heatmap(cm, annot=True, fmt='d', cmap='Blues', cbar=False,\n",
    "            xticklabels=['Class 0', 'Class 1'], \n",
    "            yticklabels=['Class 0', 'Class 1'])\n",
    "plt.xlabel('Predicted Labels')\n",
    "plt.ylabel('True Labels')\n",
    "plt.title('Confusion Matrix')\n",
    "plt.show()\n"
   ]
  },
  {
   "cell_type": "code",
   "execution_count": 26,
   "id": "a729667d-3219-4e9f-985e-84270c3492c9",
   "metadata": {},
   "outputs": [
    {
     "name": "stdout",
     "output_type": "stream",
     "text": [
      "Confusion Matrix:\n",
      " [[2296  305]\n",
      " [ 547 1800]]\n"
     ]
    }
   ],
   "source": [
    "from sklearn.metrics import confusion_matrix\n",
    "\n",
    "# Calculate the confusion matrix\n",
    "cm = confusion_matrix(y_test, y_pred)\n",
    "\n",
    "# Print the confusion matrix\n",
    "print(\"Confusion Matrix:\\n\", cm)\n"
   ]
  },
  {
   "cell_type": "code",
   "execution_count": 27,
   "id": "c12d60df-05e6-40e8-bdb3-e04ea061330e",
   "metadata": {},
   "outputs": [
    {
     "name": "stdout",
     "output_type": "stream",
     "text": [
      "True Label: 1.0, Predicted Label: [1]\n",
      "True Label: 0.0, Predicted Label: [0]\n",
      "True Label: 1.0, Predicted Label: [1]\n",
      "True Label: 1.0, Predicted Label: [1]\n",
      "True Label: 1.0, Predicted Label: [1]\n",
      "True Label: 0.0, Predicted Label: [0]\n",
      "True Label: 1.0, Predicted Label: [1]\n",
      "True Label: 0.0, Predicted Label: [0]\n",
      "True Label: 1.0, Predicted Label: [1]\n",
      "True Label: 1.0, Predicted Label: [1]\n"
     ]
    }
   ],
   "source": [
    "# Print the first few true labels and predictions\n",
    "for i in range(10):\n",
    "    print(f\"True Label: {y_test[i]}, Predicted Label: {y_pred[i]}\")\n"
   ]
  },
  {
   "cell_type": "code",
   "execution_count": 28,
   "id": "ca9bfdc8-fce3-40e5-bd6b-e9d3ad6ce5f6",
   "metadata": {},
   "outputs": [
    {
     "name": "stdout",
     "output_type": "stream",
     "text": [
      "Class distribution in y_test: {0.0: 2601, 1.0: 2347}\n"
     ]
    }
   ],
   "source": [
    "unique, counts = np.unique(y_test, return_counts=True)\n",
    "print(\"Class distribution in y_test:\", dict(zip(unique, counts)))\n"
   ]
  },
  {
   "cell_type": "code",
   "execution_count": 29,
   "id": "c6b73302-ff54-409d-ace3-b86e1e264a7d",
   "metadata": {},
   "outputs": [
    {
     "name": "stdout",
     "output_type": "stream",
     "text": [
      "Classification Report:\n",
      "               precision    recall  f1-score   support\n",
      "\n",
      "         0.0       0.81      0.88      0.84      2601\n",
      "         1.0       0.86      0.77      0.81      2347\n",
      "\n",
      "    accuracy                           0.83      4948\n",
      "   macro avg       0.83      0.82      0.83      4948\n",
      "weighted avg       0.83      0.83      0.83      4948\n",
      "\n"
     ]
    }
   ],
   "source": [
    "from sklearn.metrics import classification_report\n",
    "\n",
    "# Calculate the classification report\n",
    "report = classification_report(y_test, y_pred, zero_division=1)\n",
    "print(\"Classification Report:\\n\", report)"
   ]
  },
  {
   "cell_type": "code",
   "execution_count": 31,
   "id": "5bf050cb-60f6-4463-a99d-480c0ccae8fe",
   "metadata": {},
   "outputs": [
    {
     "name": "stderr",
     "output_type": "stream",
     "text": [
      "c:\\Users\\Nilang\\AppData\\Local\\Programs\\Python\\Python311\\Lib\\site-packages\\keras\\src\\layers\\convolutional\\base_conv.py:107: UserWarning: Do not pass an `input_shape`/`input_dim` argument to a layer. When using Sequential models, prefer using an `Input(shape)` object as the first layer in the model instead.\n",
      "  super().__init__(activity_regularizer=activity_regularizer, **kwargs)\n"
     ]
    },
    {
     "name": "stdout",
     "output_type": "stream",
     "text": [
      "Epoch 1/10\n",
      "\u001b[1m310/310\u001b[0m \u001b[32m━━━━━━━━━━━━━━━━━━━━\u001b[0m\u001b[37m\u001b[0m \u001b[1m45s\u001b[0m 135ms/step - accuracy: 0.7222 - loss: 0.7401 - val_accuracy: 0.7047 - val_loss: 0.5316\n",
      "Epoch 2/10\n",
      "\u001b[1m310/310\u001b[0m \u001b[32m━━━━━━━━━━━━━━━━━━━━\u001b[0m\u001b[37m\u001b[0m \u001b[1m41s\u001b[0m 132ms/step - accuracy: 0.7944 - loss: 0.5314 - val_accuracy: 0.8513 - val_loss: 0.3573\n",
      "Epoch 3/10\n",
      "\u001b[1m310/310\u001b[0m \u001b[32m━━━━━━━━━━━━━━━━━━━━\u001b[0m\u001b[37m\u001b[0m \u001b[1m40s\u001b[0m 129ms/step - accuracy: 0.8113 - loss: 0.4762 - val_accuracy: 0.8423 - val_loss: 0.3722\n",
      "Epoch 4/10\n",
      "\u001b[1m310/310\u001b[0m \u001b[32m━━━━━━━━━━━━━━━━━━━━\u001b[0m\u001b[37m\u001b[0m \u001b[1m40s\u001b[0m 129ms/step - accuracy: 0.8196 - loss: 0.4370 - val_accuracy: 0.8732 - val_loss: 0.3164\n",
      "Epoch 5/10\n",
      "\u001b[1m310/310\u001b[0m \u001b[32m━━━━━━━━━━━━━━━━━━━━\u001b[0m\u001b[37m\u001b[0m \u001b[1m40s\u001b[0m 130ms/step - accuracy: 0.8351 - loss: 0.4007 - val_accuracy: 0.8802 - val_loss: 0.3045\n",
      "Epoch 6/10\n",
      "\u001b[1m310/310\u001b[0m \u001b[32m━━━━━━━━━━━━━━━━━━━━\u001b[0m\u001b[37m\u001b[0m \u001b[1m41s\u001b[0m 131ms/step - accuracy: 0.8435 - loss: 0.3814 - val_accuracy: 0.8767 - val_loss: 0.3107\n",
      "Epoch 7/10\n",
      "\u001b[1m310/310\u001b[0m \u001b[32m━━━━━━━━━━━━━━━━━━━━\u001b[0m\u001b[37m\u001b[0m \u001b[1m41s\u001b[0m 132ms/step - accuracy: 0.8515 - loss: 0.3661 - val_accuracy: 0.8880 - val_loss: 0.2796\n",
      "Epoch 8/10\n",
      "\u001b[1m310/310\u001b[0m \u001b[32m━━━━━━━━━━━━━━━━━━━━\u001b[0m\u001b[37m\u001b[0m \u001b[1m41s\u001b[0m 132ms/step - accuracy: 0.8610 - loss: 0.3515 - val_accuracy: 0.8499 - val_loss: 0.3583\n",
      "Epoch 9/10\n",
      "\u001b[1m310/310\u001b[0m \u001b[32m━━━━━━━━━━━━━━━━━━━━\u001b[0m\u001b[37m\u001b[0m \u001b[1m41s\u001b[0m 131ms/step - accuracy: 0.8663 - loss: 0.3300 - val_accuracy: 0.8951 - val_loss: 0.2646\n",
      "Epoch 10/10\n",
      "\u001b[1m310/310\u001b[0m \u001b[32m━━━━━━━━━━━━━━━━━━━━\u001b[0m\u001b[37m\u001b[0m \u001b[1m41s\u001b[0m 132ms/step - accuracy: 0.8733 - loss: 0.3135 - val_accuracy: 0.8338 - val_loss: 0.3675\n",
      "Restoring model weights from the end of the best epoch: 9.\n"
     ]
    },
    {
     "name": "stderr",
     "output_type": "stream",
     "text": [
      "WARNING:absl:You are saving your model as an HDF5 file via `model.save()` or `keras.saving.save_model(model)`. This file format is considered legacy. We recommend using instead the native Keras format, e.g. `model.save('my_model.keras')` or `keras.saving.save_model(model, 'my_model.keras')`. \n"
     ]
    }
   ],
   "source": [
    "import tensorflow as tf\n",
    "from tensorflow.keras import layers, models, callbacks\n",
    "from tensorflow.keras.preprocessing.image import ImageDataGenerator\n",
    "from keras.callbacks import EarlyStopping\n",
    "import numpy as np\n",
    "from sklearn.utils import class_weight\n",
    "\n",
    "\n",
    "# Define the model\n",
    "model = models.Sequential()\n",
    "\n",
    "# First Convolutional Block\n",
    "model.add(layers.Conv2D(32, (3, 3), activation='relu', input_shape=(64, 64, 3)))\n",
    "model.add(layers.BatchNormalization())\n",
    "model.add(layers.MaxPooling2D(pool_size=(2, 2)))\n",
    "\n",
    "# Second Convolutional Block\n",
    "model.add(layers.Conv2D(64, (3, 3), activation='relu'))\n",
    "model.add(layers.BatchNormalization())\n",
    "model.add(layers.MaxPooling2D(pool_size=(2, 2)))\n",
    "\n",
    "# Third Convolutional Block\n",
    "model.add(layers.Conv2D(128, (3, 3), activation='relu'))\n",
    "model.add(layers.BatchNormalization())\n",
    "model.add(layers.MaxPooling2D(pool_size=(2, 2)))\n",
    "\n",
    "# Flattening and Fully Connected Layers\n",
    "model.add(layers.Flatten())\n",
    "model.add(layers.Dense(256, activation='relu'))\n",
    "model.add(layers.BatchNormalization())\n",
    "model.add(layers.Dropout(0.5))\n",
    "\n",
    "model.add(layers.Dense(128, activation='relu'))\n",
    "model.add(layers.BatchNormalization())\n",
    "model.add(layers.Dropout(0.5))\n",
    "\n",
    "model.add(layers.Dense(64, activation='relu'))\n",
    "model.add(layers.BatchNormalization())\n",
    "model.add(layers.Dropout(0.5))\n",
    "# Output Layer\n",
    "model.add(layers.Dense(2, activation='softmax'))\n",
    "\n",
    "# Compile the model\n",
    "model.compile(optimizer=tf.keras.optimizers.Adam(learning_rate=0.0001),\n",
    "            loss='sparse_categorical_crossentropy',\n",
    "            metrics=['accuracy'])\n",
    "\n",
    "# Early Stopping Configuration\n",
    "early_stopping = EarlyStopping(\n",
    "    monitor='val_accuracy',\n",
    "    mode='max',\n",
    "    min_delta=0.00,  # Adjust this if necessary\n",
    "    patience=20,\n",
    "    restore_best_weights=True,\n",
    "    verbose=1  # Set to 1 to get more detailed output\n",
    ")\n",
    "\n",
    "class_weights = class_weight.compute_class_weight(\n",
    "    class_weight='balanced',\n",
    "    classes=np.unique(y_train),\n",
    "    y=y_train\n",
    ")\n",
    "\n",
    "class_weights_dict = dict(enumerate(class_weights))\n",
    "\n",
    "CustomCNN = model.fit(X_train, y_train, batch_size=64, epochs=10, \n",
    "                    callbacks=[early_stopping], \n",
    "                    class_weight=class_weights_dict,  # Add class weights here\n",
    "                    validation_data=(X_train, y_train))  # Ensure you have validation data\n",
    "\n",
    "model.save('CustomCNN_model.h5')\n",
    "\n"
   ]
  },
  {
   "cell_type": "code",
   "execution_count": 32,
   "id": "b83dd8ca-75b9-4842-9371-d183c29f5850",
   "metadata": {},
   "outputs": [
    {
     "name": "stdout",
     "output_type": "stream",
     "text": [
      "\u001b[1m155/155\u001b[0m \u001b[32m━━━━━━━━━━━━━━━━━━━━\u001b[0m\u001b[37m\u001b[0m \u001b[1m2s\u001b[0m 13ms/step\n",
      "[1 0 1 ... 0 1 1]\n"
     ]
    }
   ],
   "source": [
    "predictions = model.predict(X_test)\n",
    "\n",
    "# Convert predictions to class labels\n",
    "model_predictions = np.argmax(predictions, axis=1)\n",
    "print(model_predictions)"
   ]
  },
  {
   "cell_type": "code",
   "execution_count": 33,
   "id": "49a41a7d-817f-43e8-a4dc-f1c1b9701803",
   "metadata": {},
   "outputs": [
    {
     "name": "stdout",
     "output_type": "stream",
     "text": [
      "Test accuracy: 0.8813661932945251\n"
     ]
    }
   ],
   "source": [
    "model_accuracy = model.evaluate(X_test, y_test, verbose=0) \n",
    "print('Test accuracy:', model_accuracy[1])\n"
   ]
  },
  {
   "cell_type": "code",
   "execution_count": 34,
   "id": "d2faef1c-6551-4d6b-aca8-4c8de4fe016b",
   "metadata": {},
   "outputs": [
    {
     "name": "stdout",
     "output_type": "stream",
     "text": [
      "\u001b[1m155/155\u001b[0m \u001b[32m━━━━━━━━━━━━━━━━━━━━\u001b[0m\u001b[37m\u001b[0m \u001b[1m2s\u001b[0m 12ms/step\n"
     ]
    },
    {
     "data": {
      "image/png": "[encoded data removed]",
      "text/plain": [
       "<Figure size 640x480 with 2 Axes>"
      ]
     },
     "metadata": {},
     "output_type": "display_data"
    }
   ],
   "source": [
    "from sklearn.metrics import confusion_matrix\n",
    "import seaborn as sns\n",
    "import matplotlib.pyplot as plt\n",
    "\n",
    "predictions = model.predict(X_test)\n",
    "y_pred = np.argmax(predictions, axis=1)  \n",
    "\n",
    "cm = confusion_matrix(y_test, y_pred)\n",
    "\n",
    "sns.heatmap(cm, cmap='Blues', annot=True, fmt='d', xticklabels=classes, yticklabels=classes)\n",
    "\n",
    "plt.xlabel('Predicted Labels')\n",
    "plt.ylabel('True Labels')\n",
    "plt.title('Confusion Matrix')\n",
    "plt.show()\n"
   ]
  },
  {
   "cell_type": "code",
   "execution_count": 35,
   "id": "637b1dec-b2b5-4374-8bfa-4d66d828693c",
   "metadata": {},
   "outputs": [],
   "source": [
    "def scores(cm):\n",
    "    p = {}\n",
    "    r = {}\n",
    "    f1 = {}\n",
    "    \n",
    "    for i in range(len(cm)):\n",
    "        p[i] = cm[i,i] / sum(cm[:,i])\n",
    "        r[i] = cm[i,i] / sum(cm[i,:])\n",
    "        f1[i] = 2 * (cm[i,i] / sum(cm[:,i])) * (cm[i,i]/sum(cm[i,:])) / ((cm[i,i] / sum(cm[:,i])) + (cm[i,i]/sum(cm[i,:])))\n",
    "    \n",
    "    return p,r,f1  \n"
   ]
  },
  {
   "cell_type": "code",
   "execution_count": 36,
   "id": "6b99a858-9d4f-4a94-9718-be4f6c073f1a",
   "metadata": {},
   "outputs": [],
   "source": [
    "precision, recall, f1_score = scores(cm)"
   ]
  },
  {
   "cell_type": "code",
   "execution_count": 37,
   "id": "c59aedc6-77b8-448d-a300-7e1c5df17315",
   "metadata": {},
   "outputs": [
    {
     "data": {
      "text/html": [
       "<div>\n",
       "<style scoped>\n",
       "    .dataframe tbody tr th:only-of-type {\n",
       "        vertical-align: middle;\n",
       "    }\n",
       "\n",
       "    .dataframe tbody tr th {\n",
       "        vertical-align: top;\n",
       "    }\n",
       "\n",
       "    .dataframe thead th {\n",
       "        text-align: right;\n",
       "    }\n",
       "</style>\n",
       "<table border=\"1\" class=\"dataframe\">\n",
       "  <thead>\n",
       "    <tr style=\"text-align: right;\">\n",
       "      <th></th>\n",
       "      <th>Precision</th>\n",
       "      <th>Recall</th>\n",
       "      <th>F1 Score</th>\n",
       "    </tr>\n",
       "  </thead>\n",
       "  <tbody>\n",
       "    <tr>\n",
       "      <th>0</th>\n",
       "      <td>0.928146</td>\n",
       "      <td>0.839293</td>\n",
       "      <td>0.881486</td>\n",
       "    </tr>\n",
       "    <tr>\n",
       "      <th>1</th>\n",
       "      <td>0.838983</td>\n",
       "      <td>0.927993</td>\n",
       "      <td>0.881246</td>\n",
       "    </tr>\n",
       "  </tbody>\n",
       "</table>\n",
       "</div>"
      ],
      "text/plain": [
       "   Precision    Recall  F1 Score\n",
       "0   0.928146  0.839293  0.881486\n",
       "1   0.838983  0.927993  0.881246"
      ]
     },
     "execution_count": 37,
     "metadata": {},
     "output_type": "execute_result"
    }
   ],
   "source": [
    "import pandas as pd\n",
    "Evaluation = {\n",
    "    'Precision' : precision,\n",
    "    'Recall' : recall,\n",
    "    'F1 Score' : f1_score\n",
    "}\n",
    "\n",
    "Result = pd.DataFrame(Evaluation)\n",
    "\n",
    "Result"
   ]
  },
  {
   "cell_type": "code",
   "execution_count": 38,
   "id": "2ec940ff",
   "metadata": {},
   "outputs": [
    {
     "name": "stdout",
     "output_type": "stream",
     "text": [
      "Press 'Enter' to capture the image.\n",
      "Image captured and saved as 'captured_image.jpg'.\n"
     ]
    }
   ],
   "source": [
    "import cv2\n",
    "\n",
    "def capture_image_on_enter():\n",
    "    \n",
    "    cap = cv2.VideoCapture(0)\n",
    "    \n",
    "    if not cap.isOpened():\n",
    "        print(\"Error: Could not open webcam.\")\n",
    "        return None\n",
    "    \n",
    "    print(\"Press 'Enter' to capture the image.\")\n",
    "    \n",
    "    while True:\n",
    "        \n",
    "        ret, frame = cap.read()\n",
    "        \n",
    "        cv2.imshow('Live Feed - Press Enter to Capture', frame)\n",
    "        \n",
    "        if cv2.waitKey(1) == 13:  # 13 is the Enter key\n",
    "            break\n",
    "    \n",
    "    cap.release()\n",
    "    cv2.destroyAllWindows()\n",
    "    \n",
    "    if not ret:\n",
    "        print(\"Error: Could not read image from webcam.\")\n",
    "        return None\n",
    "    \n",
    "    return frame\n",
    "\n",
    "image = capture_image_on_enter()\n",
    "\n",
    "if image is not None:\n",
    "    \n",
    "    cv2.imwrite('custom_CNN_image.jpg', image)\n",
    "    \n",
    "    print(\"Image captured and saved as 'captured_image.jpg'.\")\n",
    "else:\n",
    "    print(\"No image captured.\")\n"
   ]
  },
  {
   "cell_type": "code",
   "execution_count": 39,
   "id": "5b2898ac-fc36-479d-950f-eb3ce4a2b898",
   "metadata": {},
   "outputs": [
    {
     "name": "stdout",
     "output_type": "stream",
     "text": [
      "\u001b[1m1/1\u001b[0m \u001b[32m━━━━━━━━━━━━━━━━━━━━\u001b[0m\u001b[37m\u001b[0m \u001b[1m0s\u001b[0m 36ms/step\n",
      "[[0.10099716 0.89900285]]\n",
      "The image is classified as Non-Biodegradable\n"
     ]
    }
   ],
   "source": [
    "from tensorflow.keras.preprocessing import image\n",
    "import numpy as np\n",
    "\n",
    "\n",
    "img_path = 'captured_image.jpg'\n",
    "img = image.load_img(img_path, target_size=(64, 64))\n",
    "\n",
    "img_array = image.img_to_array(img)\n",
    "\n",
    "img_array = np.expand_dims(img_array, axis=0)\n",
    "\n",
    "img_array = img_array / 255.0 \n",
    "\n",
    "prediction = model.predict(img_array)\n",
    "\n",
    "print(prediction)\n",
    "\n",
    "predicted_class = np.argmax(prediction[0])\n",
    "\n",
    "# 0 corresponds to \"Biodegradable\"\n",
    "# 1 corresponds to \"Non-Biodegradable\"\n",
    "if predicted_class == 1:\n",
    "    print(\"The image is classified as Non-Biodegradable\")\n",
    "else:\n",
    "    print(\"The image is classified as Biodegradable\")\n"
   ]
  }
 ],
 "metadata": {
  "kernelspec": {
   "display_name": "Python 3",
   "language": "python",
   "name": "python3"
  },
  "language_info": {
   "codemirror_mode": {
    "name": "ipython",
    "version": 3
   },
   "file_extension": ".py",
   "mimetype": "text/x-python",
   "name": "python",
   "nbconvert_exporter": "python",
   "pygments_lexer": "ipython3",
   "version": "3.11.4"
  }
 },
 "nbformat": 4,
 "nbformat_minor": 5
}
