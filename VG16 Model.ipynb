{
 "cells": [
  {
   "cell_type": "code",
   "execution_count": 63,
   "id": "963b2963-6581-4fc0-a3f1-f1f095836af6",
   "metadata": {},
   "outputs": [],
   "source": [
    "import keras\n",
    "import tensorflow\n",
    "from tensorflow.keras.preprocessing.image import ImageDataGenerator\n",
    "from tensorflow.keras.optimizers import Adam\n",
    "from tensorflow.keras.callbacks import ModelCheckpoint\n",
    "from matplotlib import pyplot as plt\n",
    "from tensorflow.keras.preprocessing import image\n",
    "import numpy as np\n",
    "import math\n",
    "import sklearn"
   ]
  },
  {
   "cell_type": "code",
   "execution_count": 64,
   "id": "477712ce-f9a7-4b42-86d7-2e6742443423",
   "metadata": {},
   "outputs": [],
   "source": [
    "#Data Augmentation\n",
    "\n",
    "datagen = ImageDataGenerator(\n",
    "    rescale=1./255,               # Normalize pixel values to [0, 1]\n",
    "    rotation_range=40,            # Rotate images randomly by up to 40 degrees\n",
    "    width_shift_range=0.2,        # Shift images horizontally by up to 20% of the width\n",
    "    height_shift_range=0.2,       # Shift images vertically by up to 20% of the height\n",
    "    shear_range=0.2,              # Apply random shearing transformations\n",
    "    zoom_range=0.2,               # Zoom into images randomly\n",
    "    horizontal_flip=True,         # Flip images horizontally\n",
    "    fill_mode='nearest',          # Fill new pixels with nearest value\n",
    "    validation_split=0.2          # Reserve 20% of data for validation\n",
    ")\n",
    "\n"
   ]
  },
  {
   "cell_type": "code",
   "execution_count": 65,
   "id": "735fe8f0-54ee-4a26-bdf7-8cbba1af8fe1",
   "metadata": {},
   "outputs": [],
   "source": [
    "classes=[\"Biodegradable\",\"Non-biodegradable\"]"
   ]
  },
  {
   "cell_type": "code",
   "execution_count": 66,
   "id": "7dbf0c82-e449-4dee-a580-003c82baf753",
   "metadata": {},
   "outputs": [],
   "source": [
    " "
   ]
  },
  {
   "cell_type": "code",
   "execution_count": 67,
   "id": "2d0b9348-e177-46c4-b2db-1ce799d2fe8e",
   "metadata": {},
   "outputs": [
    {
     "name": "stdout",
     "output_type": "stream",
     "text": [
      "Found 24737 images belonging to 2 classes.\n",
      "Found 24737 images belonging to 2 classes.\n"
     ]
    }
   ],
   "source": [
    "# Create a training data generator\n",
    "initial_generator = datagen.flow_from_directory(\n",
    "    'Dataset\\\\train',        # Directory with training images\n",
    "    target_size=(64, 64),   # Resize images to 64x64\n",
    "    batch_size=1,           # Temporarily set batch size to 1\n",
    "    class_mode='binary',    # Binary classification (2 classes)\n",
    "    shuffle=False           # Keep order\n",
    ")\n",
    "\n",
    "total_images = len(initial_generator.filenames)\n",
    "\n",
    "train_generator = datagen.flow_from_directory(\n",
    "    'Dataset\\\\train',        \n",
    "    target_size=(64, 64),   # Resize images to 64x64\n",
    "    batch_size=total_images, # Load all images at once\n",
    "    class_mode='binary',    \n",
    "    shuffle=False           \n",
    ")\n",
    "\n"
   ]
  },
  {
   "cell_type": "code",
   "execution_count": 68,
   "id": "144652ae-b623-4fc7-9ffc-8987f460114e",
   "metadata": {},
   "outputs": [],
   "source": [
    "# # Load a single image to visualize augmentations\n",
    "# img_path = 'path_to_a_single_image.jpg'\n",
    "# img = tf.keras.preprocessing.image.load_img(img_path, target_size=(64, 64))\n",
    "# x = tf.keras.preprocessing.image.img_to_array(img)\n",
    "# x = x.reshape((1,) + x.shape)\n",
    "\n",
    "# # Generate augmented images\n",
    "# i = 0\n",
    "# for batch in datagen.flow(x, batch_size=1):\n",
    "#     plt.figure(i)\n",
    "#     imgplot = plt.imshow(batch[0].astype('uint8'))\n",
    "#     i += 1\n",
    "#     if i % 5 == 0:  # Display 5 images\n",
    "#         break\n",
    "\n",
    "# plt.show()"
   ]
  },
  {
   "cell_type": "code",
   "execution_count": 69,
   "id": "80bb2c16-4b46-4ae2-97b5-ab19b622945e",
   "metadata": {},
   "outputs": [
    {
     "data": {
      "text/plain": [
       "{'B': 0, 'N': 1}"
      ]
     },
     "execution_count": 69,
     "metadata": {},
     "output_type": "execute_result"
    }
   ],
   "source": [
    "train_generator.class_indices"
   ]
  },
  {
   "cell_type": "code",
   "execution_count": 70,
   "id": "cb02b331-d6c0-4f11-8035-2cfa53c9a550",
   "metadata": {},
   "outputs": [
    {
     "data": {
      "text/plain": [
       "keras.src.legacy.preprocessing.image.DirectoryIterator"
      ]
     },
     "execution_count": 70,
     "metadata": {},
     "output_type": "execute_result"
    }
   ],
   "source": [
    "type(train_generator)"
   ]
  },
  {
   "cell_type": "code",
   "execution_count": 71,
   "id": "c91c5aa7-5e11-4056-9821-bf34326e7dc3",
   "metadata": {},
   "outputs": [],
   "source": [
    "from PIL import ImageFile\n",
    "ImageFile.LOAD_TRUNCATED_IMAGES = True"
   ]
  },
  {
   "cell_type": "code",
   "execution_count": 72,
   "id": "6c3eb1c6-46f9-4ddd-8421-88af20ef85b6",
   "metadata": {},
   "outputs": [
    {
     "name": "stderr",
     "output_type": "stream",
     "text": [
      "c:\\Users\\Nilang\\AppData\\Local\\Programs\\Python\\Python311\\Lib\\site-packages\\PIL\\Image.py:1000: UserWarning: Palette images with Transparency expressed in bytes should be converted to RGBA images\n",
      "  warnings.warn(\n"
     ]
    },
    {
     "data": {
      "text/plain": [
       "(24737, 64, 64, 3)"
      ]
     },
     "execution_count": 72,
     "metadata": {},
     "output_type": "execute_result"
    }
   ],
   "source": [
    "images,labels=next(train_generator)\n",
    "images.shape\n",
    "# labels[:5]\n"
   ]
  },
  {
   "cell_type": "code",
   "execution_count": 73,
   "id": "e0a4e998-e850-4c9b-bb46-8b1cb4f40886",
   "metadata": {},
   "outputs": [
    {
     "data": {
      "image/png": "[encoded data removed]",
      "text/plain": [
       "<Figure size 2000x2000 with 5 Axes>"
      ]
     },
     "metadata": {},
     "output_type": "display_data"
    }
   ],
   "source": [
    "plot_augmented_images(images,labels)\n"
   ]
  },
  {
   "cell_type": "code",
   "execution_count": 74,
   "id": "61fccc15-1046-4552-98b2-41791063c226",
   "metadata": {},
   "outputs": [
    {
     "data": {
      "text/plain": [
       "array([0., 0., 0., ..., 1., 1., 1.], dtype=float32)"
      ]
     },
     "execution_count": 74,
     "metadata": {},
     "output_type": "execute_result"
    }
   ],
   "source": [
    "labels"
   ]
  },
  {
   "cell_type": "code",
   "execution_count": 75,
   "id": "cb857ceb-cba2-4e69-a41f-ba4eb45de1f3",
   "metadata": {},
   "outputs": [
    {
     "data": {
      "image/png": "[encoded data removed]",
      "text/plain": [
       "<Figure size 640x480 with 1 Axes>"
      ]
     },
     "metadata": {},
     "output_type": "display_data"
    }
   ],
   "source": [
    "import seaborn as sns\n",
    "sns.countplot(x = labels)\n",
    "plt.title(\"Class Distribution\")\n",
    "plt.xlabel(\"Class Names\")\n",
    "plt.ylabel(\"Count\")\n",
    "plt.show()"
   ]
  },
  {
   "cell_type": "code",
   "execution_count": 76,
   "id": "1e8c45fe-2c0f-4fe5-8646-753f935b6113",
   "metadata": {},
   "outputs": [],
   "source": [
    "from sklearn.model_selection import train_test_split\n",
    "\n",
    "# Assuming you have lists of image file paths and labels\n",
    "X_train, X_test, y_train, y_test = train_test_split(images, labels, test_size=0.2, random_state=42)\n",
    "\n"
   ]
  },
  {
   "cell_type": "code",
   "execution_count": 77,
   "id": "5172c5f3-1e58-4296-9fcc-909cfdbafc8d",
   "metadata": {},
   "outputs": [
    {
     "data": {
      "text/plain": [
       "array([[[0.57806206, 0.49676877, 0.39014375],\n",
       "        [0.5262225 , 0.45299315, 0.3705599 ],\n",
       "        [0.47438297, 0.40921754, 0.35097608],\n",
       "        ...,\n",
       "        [0.62954867, 0.56409794, 0.4929017 ],\n",
       "        [0.59247875, 0.5326118 , 0.46227568],\n",
       "        [0.47771755, 0.41201472, 0.35467005]],\n",
       "\n",
       "       [[0.7096968 , 0.605973  , 0.4591119 ],\n",
       "        [0.67168117, 0.5748693 , 0.4349201 ],\n",
       "        [0.6330733 , 0.5432226 , 0.41092575],\n",
       "        ...,\n",
       "        [0.6267472 , 0.5631641 , 0.4910341 ],\n",
       "        [0.5681997 , 0.5073989 , 0.44079804],\n",
       "        [0.4525047 , 0.38493422, 0.32852337]],\n",
       "\n",
       "       [[0.7516893 , 0.63796383, 0.4773821 ],\n",
       "        [0.7597533 , 0.6460278 , 0.48775   ],\n",
       "        [0.7500383 , 0.63897973, 0.4847838 ],\n",
       "        ...,\n",
       "        [0.6239458 , 0.5622303 , 0.48916647],\n",
       "        [0.5439206 , 0.48218602, 0.4193204 ],\n",
       "        [0.42729178, 0.35785368, 0.30237666]],\n",
       "\n",
       "       ...,\n",
       "\n",
       "       [[0.6049997 , 0.4953887 , 0.30117416],\n",
       "        [0.63412756, 0.5312963 , 0.32654396],\n",
       "        [0.83186567, 0.733349  , 0.47069103],\n",
       "        ...,\n",
       "        [0.70501643, 0.59521246, 0.40697718],\n",
       "        [0.7073204 , 0.5975164 , 0.40928116],\n",
       "        [0.7096244 , 0.59982044, 0.41158515]],\n",
       "\n",
       "       [[0.53898543, 0.43167728, 0.2585693 ],\n",
       "        [0.78884035, 0.6838819 , 0.448581  ],\n",
       "        [0.7886687 , 0.68380207, 0.39143604],\n",
       "        ...,\n",
       "        [0.6959648 , 0.5861609 , 0.39392832],\n",
       "        [0.6994208 , 0.5896169 , 0.39968827],\n",
       "        [0.70257145, 0.59276754, 0.40453225]],\n",
       "\n",
       "       [[0.5095644 , 0.40668896, 0.23341376],\n",
       "        [0.80172014, 0.70174205, 0.4234857 ],\n",
       "        [0.8122027 , 0.7092246 , 0.4118825 ],\n",
       "        ...,\n",
       "        [0.68859255, 0.57878864, 0.38752082],\n",
       "        [0.6897446 , 0.5799407 , 0.38521683],\n",
       "        [0.69229746, 0.58249354, 0.38781598]]], dtype=float32)"
      ]
     },
     "execution_count": 77,
     "metadata": {},
     "output_type": "execute_result"
    }
   ],
   "source": [
    "X_train[0]"
   ]
  },
  {
   "cell_type": "code",
   "execution_count": 78,
   "id": "5335b945-ad93-48f7-8958-a43d945b2c9f",
   "metadata": {},
   "outputs": [
    {
     "data": {
      "text/plain": [
       "(19789, 64, 64, 3)"
      ]
     },
     "execution_count": 78,
     "metadata": {},
     "output_type": "execute_result"
    }
   ],
   "source": [
    "X_train.shape"
   ]
  },
  {
   "cell_type": "code",
   "execution_count": 79,
   "id": "8f41c95c-05a7-49c2-95a8-5a7dbbd437a6",
   "metadata": {},
   "outputs": [
    {
     "data": {
      "text/plain": [
       "(4948, 64, 64, 3)"
      ]
     },
     "execution_count": 79,
     "metadata": {},
     "output_type": "execute_result"
    }
   ],
   "source": [
    "X_test.shape"
   ]
  },
  {
   "cell_type": "code",
   "execution_count": 80,
   "id": "f4052e5f-b197-48b3-83e6-05024784801a",
   "metadata": {},
   "outputs": [],
   "source": [
    "# val_generator = datagen.flow_from_directory(\n",
    "#     '',\n",
    "#     target_size=(64, 64),\n",
    "#     batch_size=32,\n",
    "#     class_mode='binary'\n",
    "# )"
   ]
  },
  {
   "cell_type": "code",
   "execution_count": null,
   "id": "799c8ca6-e4fa-4994-9fc7-c68152f6458e",
   "metadata": {},
   "outputs": [],
   "source": [
    "\n"
   ]
  },
  {
   "cell_type": "code",
   "execution_count": 81,
   "id": "e7dd1a7d-a260-42cb-9a89-9faba0621f94",
   "metadata": {},
   "outputs": [],
   "source": [
    "from tensorflow.keras import Sequential\n",
    "from tensorflow.keras.layers import Input, Flatten, Dense\n",
    "\n",
    "ann = Sequential([\n",
    "    Input(shape=(64, 64, 3)), \n",
    "    Flatten(),                   \n",
    "    Dense(1200, activation='relu'),\n",
    "    Dense(300, activation='relu'),\n",
    "    Dense(1, activation='sigmoid'),  # Use sigmoid for binary classification\n",
    "])\n"
   ]
  },
  {
   "cell_type": "code",
   "execution_count": 82,
   "id": "202fb61e-bafd-4c68-9de8-52bbb2c400b8",
   "metadata": {},
   "outputs": [],
   "source": [
    "learning_rate=0.0001\n",
    "optimizer = Adam(learning_rate=learning_rate)\n",
    "ann.compile(\n",
    "    optimizer=optimizer,                  \n",
    "    loss='binary_crossentropy',      \n",
    "    metrics=['accuracy']  # Evaluate the model using accuracy\n",
    ")"
   ]
  },
  {
   "cell_type": "code",
   "execution_count": 83,
   "id": "c186ed8a-f3d3-4585-94c9-9eb69131748f",
   "metadata": {
    "scrolled": true
   },
   "outputs": [
    {
     "name": "stdout",
     "output_type": "stream",
     "text": [
      "Epoch 1/5\n",
      "\u001b[1m619/619\u001b[0m \u001b[32m━━━━━━━━━━━━━━━━━━━━\u001b[0m\u001b[37m\u001b[0m \u001b[1m50s\u001b[0m 77ms/step - accuracy: 0.7443 - loss: 0.5282\n",
      "Epoch 2/5\n",
      "\u001b[1m619/619\u001b[0m \u001b[32m━━━━━━━━━━━━━━━━━━━━\u001b[0m\u001b[37m\u001b[0m \u001b[1m46s\u001b[0m 74ms/step - accuracy: 0.7976 - loss: 0.4485\n",
      "Epoch 3/5\n",
      "\u001b[1m619/619\u001b[0m \u001b[32m━━━━━━━━━━━━━━━━━━━━\u001b[0m\u001b[37m\u001b[0m \u001b[1m46s\u001b[0m 75ms/step - accuracy: 0.8078 - loss: 0.4292\n",
      "Epoch 4/5\n",
      "\u001b[1m619/619\u001b[0m \u001b[32m━━━━━━━━━━━━━━━━━━━━\u001b[0m\u001b[37m\u001b[0m \u001b[1m46s\u001b[0m 75ms/step - accuracy: 0.8131 - loss: 0.4222\n",
      "Epoch 5/5\n",
      "\u001b[1m619/619\u001b[0m \u001b[32m━━━━━━━━━━━━━━━━━━━━\u001b[0m\u001b[37m\u001b[0m \u001b[1m47s\u001b[0m 75ms/step - accuracy: 0.8184 - loss: 0.4109\n"
     ]
    }
   ],
   "source": [
    "ann.fit(X_train,y_train,epochs=5,batch_size=32);"
   ]
  },
  {
   "cell_type": "code",
   "execution_count": 84,
   "id": "27a14aa5-b083-43d4-a033-2592dce98738",
   "metadata": {},
   "outputs": [
    {
     "data": {
      "text/plain": [
       "array([0., 0., 0., ..., 1., 1., 1.], dtype=float32)"
      ]
     },
     "execution_count": 84,
     "metadata": {},
     "output_type": "execute_result"
    }
   ],
   "source": [
    "labels"
   ]
  },
  {
   "cell_type": "code",
   "execution_count": 85,
   "id": "05e7267e-f835-4aea-beab-430d2ffb5ce7",
   "metadata": {},
   "outputs": [
    {
     "name": "stdout",
     "output_type": "stream",
     "text": [
      "\u001b[1m155/155\u001b[0m \u001b[32m━━━━━━━━━━━━━━━━━━━━\u001b[0m\u001b[37m\u001b[0m \u001b[1m1s\u001b[0m 8ms/step - accuracy: 0.8259 - loss: 0.3800\n"
     ]
    },
    {
     "data": {
      "text/plain": [
       "[0.3929343521595001, 0.8253840208053589]"
      ]
     },
     "execution_count": 85,
     "metadata": {},
     "output_type": "execute_result"
    }
   ],
   "source": [
    "ann.evaluate(X_test,y_test)"
   ]
  },
  {
   "cell_type": "code",
   "execution_count": 86,
   "id": "6c8f8d0a-02b5-4933-9f87-bf52be2f9718",
   "metadata": {},
   "outputs": [
    {
     "name": "stdout",
     "output_type": "stream",
     "text": [
      "\u001b[1m155/155\u001b[0m \u001b[32m━━━━━━━━━━━━━━━━━━━━\u001b[0m\u001b[37m\u001b[0m \u001b[1m1s\u001b[0m 9ms/step\n",
      "              precision    recall  f1-score   support\n",
      "\n",
      "         0.0       0.85      0.81      0.83      2601\n",
      "         1.0       0.80      0.84      0.82      2347\n",
      "\n",
      "    accuracy                           0.83      4948\n",
      "   macro avg       0.83      0.83      0.83      4948\n",
      "weighted avg       0.83      0.83      0.83      4948\n",
      "\n"
     ]
    }
   ],
   "source": [
    "from sklearn.metrics import classification_report\n",
    "\n",
    "# Predict the labels\n",
    "y_pred = (ann.predict(X_test) > 0.5).astype(\"int32\")\n",
    "\n",
    "# Generate the classification report\n",
    "report = classification_report(y_test, y_pred, zero_division=1)\n",
    "print(report) \n"
   ]
  },
  {
   "cell_type": "code",
   "execution_count": 87,
   "id": "e51dee81-7843-4e87-9b97-a64af405a33d",
   "metadata": {},
   "outputs": [
    {
     "data": {
      "image/png": "[encoded data removed]",
      "text/plain": [
       "<Figure size 800x600 with 1 Axes>"
      ]
     },
     "metadata": {},
     "output_type": "display_data"
    }
   ],
   "source": [
    "\n",
    "from sklearn.metrics import confusion_matrix\n",
    "\n",
    "# Compute confusion matrix\n",
    "cm = confusion_matrix(y_test, y_pred)\n",
    "\n",
    "# Plot confusion matrix\n",
    "plt.figure(figsize=(8, 6))\n",
    "sns.heatmap(cm, annot=True, fmt='d', cmap='Blues', cbar=False,\n",
    "            xticklabels=['Class 0', 'Class 1'], \n",
    "            yticklabels=['Class 0', 'Class 1'])\n",
    "plt.xlabel('Predicted Labels')\n",
    "plt.ylabel('True Labels')\n",
    "plt.title('Confusion Matrix')\n",
    "plt.show()\n"
   ]
  },
  {
   "cell_type": "code",
   "execution_count": 88,
   "id": "a729667d-3219-4e9f-985e-84270c3492c9",
   "metadata": {},
   "outputs": [
    {
     "name": "stdout",
     "output_type": "stream",
     "text": [
      "Confusion Matrix:\n",
      " [[2117  484]\n",
      " [ 380 1967]]\n"
     ]
    }
   ],
   "source": [
    "from sklearn.metrics import confusion_matrix\n",
    "\n",
    "# Calculate the confusion matrix\n",
    "cm = confusion_matrix(y_test, y_pred)\n",
    "\n",
    "# Print the confusion matrix\n",
    "print(\"Confusion Matrix:\\n\", cm)\n"
   ]
  },
  {
   "cell_type": "code",
   "execution_count": 89,
   "id": "c12d60df-05e6-40e8-bdb3-e04ea061330e",
   "metadata": {},
   "outputs": [
    {
     "name": "stdout",
     "output_type": "stream",
     "text": [
      "True Label: 1.0, Predicted Label: [1]\n",
      "True Label: 0.0, Predicted Label: [0]\n",
      "True Label: 1.0, Predicted Label: [1]\n",
      "True Label: 1.0, Predicted Label: [1]\n",
      "True Label: 1.0, Predicted Label: [1]\n",
      "True Label: 0.0, Predicted Label: [0]\n",
      "True Label: 1.0, Predicted Label: [1]\n",
      "True Label: 0.0, Predicted Label: [0]\n",
      "True Label: 1.0, Predicted Label: [1]\n",
      "True Label: 1.0, Predicted Label: [1]\n"
     ]
    }
   ],
   "source": [
    "# Print the first few true labels and predictions\n",
    "for i in range(10):\n",
    "    print(f\"True Label: {y_test[i]}, Predicted Label: {y_pred[i]}\")\n"
   ]
  },
  {
   "cell_type": "code",
   "execution_count": 90,
   "id": "ca9bfdc8-fce3-40e5-bd6b-e9d3ad6ce5f6",
   "metadata": {},
   "outputs": [
    {
     "name": "stdout",
     "output_type": "stream",
     "text": [
      "Class distribution in y_test: {0.0: 2601, 1.0: 2347}\n"
     ]
    }
   ],
   "source": [
    "unique, counts = np.unique(y_test, return_counts=True)\n",
    "print(\"Class distribution in y_test:\", dict(zip(unique, counts)))\n"
   ]
  },
  {
   "cell_type": "code",
   "execution_count": 91,
   "id": "c6b73302-ff54-409d-ace3-b86e1e264a7d",
   "metadata": {},
   "outputs": [
    {
     "name": "stdout",
     "output_type": "stream",
     "text": [
      "Classification Report:\n",
      "               precision    recall  f1-score   support\n",
      "\n",
      "         0.0       0.85      0.81      0.83      2601\n",
      "         1.0       0.80      0.84      0.82      2347\n",
      "\n",
      "    accuracy                           0.83      4948\n",
      "   macro avg       0.83      0.83      0.83      4948\n",
      "weighted avg       0.83      0.83      0.83      4948\n",
      "\n"
     ]
    }
   ],
   "source": [
    "from sklearn.metrics import classification_report\n",
    "\n",
    "# Calculate the classification report\n",
    "report = classification_report(y_test, y_pred, zero_division=1)\n",
    "print(\"Classification Report:\\n\", report)"
   ]
  },
  {
   "cell_type": "code",
   "execution_count": 92,
   "id": "5bf050cb-60f6-4463-a99d-480c0ccae8fe",
   "metadata": {},
   "outputs": [
    {
     "name": "stdout",
     "output_type": "stream",
     "text": [
      "Number of layers in Inception: 20\n"
     ]
    },
    {
     "data": {
      "text/html": [
       "<pre style=\"white-space:pre;overflow-x:auto;line-height:normal;font-family:Menlo,'DejaVu Sans Mono',consolas,'Courier New',monospace\"><span style=\"font-weight: bold\">Model: \"sequential_3\"</span>\n",
       "</pre>\n"
      ],
      "text/plain": [
       "\u001b[1mModel: \"sequential_3\"\u001b[0m\n"
      ]
     },
     "metadata": {},
     "output_type": "display_data"
    },
    {
     "data": {
      "text/html": [
       "<pre style=\"white-space:pre;overflow-x:auto;line-height:normal;font-family:Menlo,'DejaVu Sans Mono',consolas,'Courier New',monospace\">┏━━━━━━━━━━━━━━━━━━━━━━━━━━━━━━━━━┳━━━━━━━━━━━━━━━━━━━━━━━━┳━━━━━━━━━━━━━━━┓\n",
       "┃<span style=\"font-weight: bold\"> Layer (type)                    </span>┃<span style=\"font-weight: bold\"> Output Shape           </span>┃<span style=\"font-weight: bold\">       Param # </span>┃\n",
       "┡━━━━━━━━━━━━━━━━━━━━━━━━━━━━━━━━━╇━━━━━━━━━━━━━━━━━━━━━━━━╇━━━━━━━━━━━━━━━┩\n",
       "│ vgg16 (<span style=\"color: #0087ff; text-decoration-color: #0087ff\">Functional</span>)              │ (<span style=\"color: #00d7ff; text-decoration-color: #00d7ff\">None</span>, <span style=\"color: #00af00; text-decoration-color: #00af00\">512</span>)            │    <span style=\"color: #00af00; text-decoration-color: #00af00\">14,714,688</span> │\n",
       "├─────────────────────────────────┼────────────────────────┼───────────────┤\n",
       "│ flatten_3 (<span style=\"color: #0087ff; text-decoration-color: #0087ff\">Flatten</span>)             │ (<span style=\"color: #00d7ff; text-decoration-color: #00d7ff\">None</span>, <span style=\"color: #00af00; text-decoration-color: #00af00\">512</span>)            │             <span style=\"color: #00af00; text-decoration-color: #00af00\">0</span> │\n",
       "├─────────────────────────────────┼────────────────────────┼───────────────┤\n",
       "│ dense_7 (<span style=\"color: #0087ff; text-decoration-color: #0087ff\">Dense</span>)                 │ (<span style=\"color: #00d7ff; text-decoration-color: #00d7ff\">None</span>, <span style=\"color: #00af00; text-decoration-color: #00af00\">2</span>)              │         <span style=\"color: #00af00; text-decoration-color: #00af00\">1,026</span> │\n",
       "└─────────────────────────────────┴────────────────────────┴───────────────┘\n",
       "</pre>\n"
      ],
      "text/plain": [
       "┏━━━━━━━━━━━━━━━━━━━━━━━━━━━━━━━━━┳━━━━━━━━━━━━━━━━━━━━━━━━┳━━━━━━━━━━━━━━━┓\n",
       "┃\u001b[1m \u001b[0m\u001b[1mLayer (type)                   \u001b[0m\u001b[1m \u001b[0m┃\u001b[1m \u001b[0m\u001b[1mOutput Shape          \u001b[0m\u001b[1m \u001b[0m┃\u001b[1m \u001b[0m\u001b[1m      Param #\u001b[0m\u001b[1m \u001b[0m┃\n",
       "┡━━━━━━━━━━━━━━━━━━━━━━━━━━━━━━━━━╇━━━━━━━━━━━━━━━━━━━━━━━━╇━━━━━━━━━━━━━━━┩\n",
       "│ vgg16 (\u001b[38;5;33mFunctional\u001b[0m)              │ (\u001b[38;5;45mNone\u001b[0m, \u001b[38;5;34m512\u001b[0m)            │    \u001b[38;5;34m14,714,688\u001b[0m │\n",
       "├─────────────────────────────────┼────────────────────────┼───────────────┤\n",
       "│ flatten_3 (\u001b[38;5;33mFlatten\u001b[0m)             │ (\u001b[38;5;45mNone\u001b[0m, \u001b[38;5;34m512\u001b[0m)            │             \u001b[38;5;34m0\u001b[0m │\n",
       "├─────────────────────────────────┼────────────────────────┼───────────────┤\n",
       "│ dense_7 (\u001b[38;5;33mDense\u001b[0m)                 │ (\u001b[38;5;45mNone\u001b[0m, \u001b[38;5;34m2\u001b[0m)              │         \u001b[38;5;34m1,026\u001b[0m │\n",
       "└─────────────────────────────────┴────────────────────────┴───────────────┘\n"
      ]
     },
     "metadata": {},
     "output_type": "display_data"
    },
    {
     "data": {
      "text/html": [
       "<pre style=\"white-space:pre;overflow-x:auto;line-height:normal;font-family:Menlo,'DejaVu Sans Mono',consolas,'Courier New',monospace\"><span style=\"font-weight: bold\"> Total params: </span><span style=\"color: #00af00; text-decoration-color: #00af00\">14,715,714</span> (56.14 MB)\n",
       "</pre>\n"
      ],
      "text/plain": [
       "\u001b[1m Total params: \u001b[0m\u001b[38;5;34m14,715,714\u001b[0m (56.14 MB)\n"
      ]
     },
     "metadata": {},
     "output_type": "display_data"
    },
    {
     "data": {
      "text/html": [
       "<pre style=\"white-space:pre;overflow-x:auto;line-height:normal;font-family:Menlo,'DejaVu Sans Mono',consolas,'Courier New',monospace\"><span style=\"font-weight: bold\"> Trainable params: </span><span style=\"color: #00af00; text-decoration-color: #00af00\">4,720,642</span> (18.01 MB)\n",
       "</pre>\n"
      ],
      "text/plain": [
       "\u001b[1m Trainable params: \u001b[0m\u001b[38;5;34m4,720,642\u001b[0m (18.01 MB)\n"
      ]
     },
     "metadata": {},
     "output_type": "display_data"
    },
    {
     "data": {
      "text/html": [
       "<pre style=\"white-space:pre;overflow-x:auto;line-height:normal;font-family:Menlo,'DejaVu Sans Mono',consolas,'Courier New',monospace\"><span style=\"font-weight: bold\"> Non-trainable params: </span><span style=\"color: #00af00; text-decoration-color: #00af00\">9,995,072</span> (38.13 MB)\n",
       "</pre>\n"
      ],
      "text/plain": [
       "\u001b[1m Non-trainable params: \u001b[0m\u001b[38;5;34m9,995,072\u001b[0m (38.13 MB)\n"
      ]
     },
     "metadata": {},
     "output_type": "display_data"
    },
    {
     "name": "stdout",
     "output_type": "stream",
     "text": [
      "Epoch 1/10\n",
      "\u001b[1m310/310\u001b[0m \u001b[32m━━━━━━━━━━━━━━━━━━━━\u001b[0m\u001b[37m\u001b[0m \u001b[1m180s\u001b[0m 577ms/step - accuracy: 0.7768 - loss: 1.7102\n",
      "Epoch 2/10\n"
     ]
    },
    {
     "name": "stderr",
     "output_type": "stream",
     "text": [
      "c:\\Users\\Nilang\\AppData\\Local\\Programs\\Python\\Python311\\Lib\\site-packages\\keras\\src\\callbacks\\early_stopping.py:155: UserWarning: Early stopping conditioned on metric `val_accuracy` which is not available. Available metrics are: accuracy,loss\n",
      "  current = self.get_monitor_value(logs)\n"
     ]
    },
    {
     "name": "stdout",
     "output_type": "stream",
     "text": [
      "\u001b[1m310/310\u001b[0m \u001b[32m━━━━━━━━━━━━━━━━━━━━\u001b[0m\u001b[37m\u001b[0m \u001b[1m177s\u001b[0m 570ms/step - accuracy: 0.8890 - loss: 0.2808\n",
      "Epoch 3/10\n",
      "\u001b[1m310/310\u001b[0m \u001b[32m━━━━━━━━━━━━━━━━━━━━\u001b[0m\u001b[37m\u001b[0m \u001b[1m191s\u001b[0m 617ms/step - accuracy: 0.9060 - loss: 0.2345\n",
      "Epoch 4/10\n",
      "\u001b[1m310/310\u001b[0m \u001b[32m━━━━━━━━━━━━━━━━━━━━\u001b[0m\u001b[37m\u001b[0m \u001b[1m176s\u001b[0m 569ms/step - accuracy: 0.9197 - loss: 0.1965\n",
      "Epoch 5/10\n",
      "\u001b[1m310/310\u001b[0m \u001b[32m━━━━━━━━━━━━━━━━━━━━\u001b[0m\u001b[37m\u001b[0m \u001b[1m1163s\u001b[0m 4s/step - accuracy: 0.9370 - loss: 0.1628\n",
      "Epoch 6/10\n",
      "\u001b[1m310/310\u001b[0m \u001b[32m━━━━━━━━━━━━━━━━━━━━\u001b[0m\u001b[37m\u001b[0m \u001b[1m170s\u001b[0m 548ms/step - accuracy: 0.9484 - loss: 0.1320\n",
      "Epoch 7/10\n",
      "\u001b[1m310/310\u001b[0m \u001b[32m━━━━━━━━━━━━━━━━━━━━\u001b[0m\u001b[37m\u001b[0m \u001b[1m153s\u001b[0m 493ms/step - accuracy: 0.9585 - loss: 0.1089\n",
      "Epoch 8/10\n",
      "\u001b[1m310/310\u001b[0m \u001b[32m━━━━━━━━━━━━━━━━━━━━\u001b[0m\u001b[37m\u001b[0m \u001b[1m156s\u001b[0m 504ms/step - accuracy: 0.9680 - loss: 0.0817\n",
      "Epoch 9/10\n",
      "\u001b[1m310/310\u001b[0m \u001b[32m━━━━━━━━━━━━━━━━━━━━\u001b[0m\u001b[37m\u001b[0m \u001b[1m175s\u001b[0m 563ms/step - accuracy: 0.9745 - loss: 0.0639\n",
      "Epoch 10/10\n",
      "\u001b[1m310/310\u001b[0m \u001b[32m━━━━━━━━━━━━━━━━━━━━\u001b[0m\u001b[37m\u001b[0m \u001b[1m163s\u001b[0m 527ms/step - accuracy: 0.9810 - loss: 0.0515\n"
     ]
    },
    {
     "name": "stderr",
     "output_type": "stream",
     "text": [
      "WARNING:absl:You are saving your model as an HDF5 file via `model.save()` or `keras.saving.save_model(model)`. This file format is considered legacy. We recommend using instead the native Keras format, e.g. `model.save('my_model.keras')` or `keras.saving.save_model(model, 'my_model.keras')`. \n"
     ]
    }
   ],
   "source": [
    "from keras.applications.vgg16 import VGG16\n",
    "from keras.callbacks import EarlyStopping\n",
    "vgg16_model = Sequential()\n",
    "\n",
    "vgg16_base = VGG16(\n",
    "    include_top = False,\n",
    "    weights = \"imagenet\",\n",
    "    input_shape = (64,64,3),\n",
    "    pooling = 'max'\n",
    ")\n",
    "\n",
    "print(f\"Number of layers in Inception: {len(vgg16_base.layers)}\")\n",
    "\n",
    "for layer in vgg16_base.layers[:]:\n",
    "    layer.trainable = False\n",
    "    \n",
    "for layer in vgg16_base.layers[16:]:\n",
    "    layer.trainable = True\n",
    "    \n",
    "vgg16_model.add(vgg16_base)\n",
    "\n",
    "vgg16_model.add(Flatten())\n",
    "\n",
    "vgg16_model.add(Dense(units = 2, activation = 'softmax'))\n",
    "\n",
    "vgg16_model.summary()\n",
    "\n",
    "early_stopping = EarlyStopping( monitor = 'val_accuracy', mode = 'max', min_delta = 1,patience = 20,restore_best_weights = True,verbose = 0)\n",
    "\n",
    "vgg16_model.compile(optimizer = keras.optimizers.RMSprop(learning_rate = 0.001) , loss = 'sparse_categorical_crossentropy' ,metrics = ['accuracy'])\n",
    "\n",
    "vgg16 = vgg16_model.fit(X_train, y_train, batch_size = 64, epochs = 10, callbacks = [early_stopping])\n",
    "\n",
    "vgg16_model.save('vgg16_model.h5')"
   ]
  },
  {
   "cell_type": "code",
   "execution_count": 93,
   "id": "b83dd8ca-75b9-4842-9371-d183c29f5850",
   "metadata": {},
   "outputs": [
    {
     "name": "stdout",
     "output_type": "stream",
     "text": [
      "\u001b[1m155/155\u001b[0m \u001b[32m━━━━━━━━━━━━━━━━━━━━\u001b[0m\u001b[37m\u001b[0m \u001b[1m44s\u001b[0m 283ms/step\n"
     ]
    }
   ],
   "source": [
    "vgg16_predictions = vgg16_model.predict(X_test)\n",
    "vgg16_predictions = np.argmax(vgg16_predictions,axis = 1)"
   ]
  },
  {
   "cell_type": "code",
   "execution_count": 94,
   "id": "49a41a7d-817f-43e8-a4dc-f1c1b9701803",
   "metadata": {},
   "outputs": [
    {
     "name": "stdout",
     "output_type": "stream",
     "text": [
      "Test accuracy: 0.905214250087738\n"
     ]
    }
   ],
   "source": [
    "vgg16_accuracy = vgg16_model.evaluate(X_test, y_test, verbose = 0) \n",
    "print('Test accuracy:', vgg16_accuracy[1])"
   ]
  },
  {
   "cell_type": "code",
   "execution_count": 95,
   "id": "d2faef1c-6551-4d6b-aca8-4c8de4fe016b",
   "metadata": {},
   "outputs": [
    {
     "data": {
      "image/png": "[encoded data removed]",
      "text/plain": [
       "<Figure size 640x480 with 2 Axes>"
      ]
     },
     "metadata": {},
     "output_type": "display_data"
    }
   ],
   "source": [
    "cm = confusion_matrix(y_test, vgg16_predictions)\n",
    "sns.heatmap(cm,cmap = 'Blues',annot = True, xticklabels = classes, yticklabels = classes)\n",
    "plt.show()\n",
    "\n"
   ]
  },
  {
   "cell_type": "code",
   "execution_count": 96,
   "id": "637b1dec-b2b5-4374-8bfa-4d66d828693c",
   "metadata": {},
   "outputs": [],
   "source": [
    "def scores(cm):\n",
    "    p = {}\n",
    "    r = {}\n",
    "    f1 = {}\n",
    "    \n",
    "    for i in range(len(cm)):\n",
    "        p[i] = cm[i,i] / sum(cm[:,i])\n",
    "        r[i] = cm[i,i] / sum(cm[i,:])\n",
    "        f1[i] = 2 * (cm[i,i] / sum(cm[:,i])) * (cm[i,i]/sum(cm[i,:])) / ((cm[i,i] / sum(cm[:,i])) + (cm[i,i]/sum(cm[i,:])))\n",
    "    \n",
    "    return p,r,f1  \n"
   ]
  },
  {
   "cell_type": "code",
   "execution_count": 97,
   "id": "6b99a858-9d4f-4a94-9718-be4f6c073f1a",
   "metadata": {},
   "outputs": [],
   "source": [
    "precision, recall, f1_score = scores(cm)"
   ]
  },
  {
   "cell_type": "code",
   "execution_count": 98,
   "id": "c59aedc6-77b8-448d-a300-7e1c5df17315",
   "metadata": {},
   "outputs": [
    {
     "data": {
      "text/html": [
       "<div>\n",
       "<style scoped>\n",
       "    .dataframe tbody tr th:only-of-type {\n",
       "        vertical-align: middle;\n",
       "    }\n",
       "\n",
       "    .dataframe tbody tr th {\n",
       "        vertical-align: top;\n",
       "    }\n",
       "\n",
       "    .dataframe thead th {\n",
       "        text-align: right;\n",
       "    }\n",
       "</style>\n",
       "<table border=\"1\" class=\"dataframe\">\n",
       "  <thead>\n",
       "    <tr style=\"text-align: right;\">\n",
       "      <th></th>\n",
       "      <th>Precision</th>\n",
       "      <th>Recall</th>\n",
       "      <th>F1 Score</th>\n",
       "    </tr>\n",
       "  </thead>\n",
       "  <tbody>\n",
       "    <tr>\n",
       "      <th>0</th>\n",
       "      <td>0.904094</td>\n",
       "      <td>0.916955</td>\n",
       "      <td>0.910479</td>\n",
       "    </tr>\n",
       "    <tr>\n",
       "      <th>1</th>\n",
       "      <td>0.906494</td>\n",
       "      <td>0.892203</td>\n",
       "      <td>0.899291</td>\n",
       "    </tr>\n",
       "  </tbody>\n",
       "</table>\n",
       "</div>"
      ],
      "text/plain": [
       "   Precision    Recall  F1 Score\n",
       "0   0.904094  0.916955  0.910479\n",
       "1   0.906494  0.892203  0.899291"
      ]
     },
     "execution_count": 98,
     "metadata": {},
     "output_type": "execute_result"
    }
   ],
   "source": [
    "import pandas as pd\n",
    "Evaluation = {\n",
    "    'Precision' : precision,\n",
    "    'Recall' : recall,\n",
    "    'F1 Score' : f1_score\n",
    "}\n",
    "\n",
    "Result = pd.DataFrame(Evaluation)\n",
    "\n",
    "Result"
   ]
  },
  {
   "cell_type": "code",
   "execution_count": 99,
   "id": "a4e56bf7",
   "metadata": {},
   "outputs": [
    {
     "name": "stdout",
     "output_type": "stream",
     "text": [
      "Press 'Enter' to capture the image.\n",
      "Image captured and saved as 'captured_image.jpg'.\n"
     ]
    }
   ],
   "source": [
    "import cv2\n",
    "\n",
    "def capture_image_on_enter():\n",
    "    # Open a connection to the webcam (default camera is usually 0)\n",
    "    cap = cv2.VideoCapture(0)\n",
    "    \n",
    "    # Check if the webcam is opened correctly\n",
    "    if not cap.isOpened():\n",
    "        print(\"Error: Could not open webcam.\")\n",
    "        return None\n",
    "    \n",
    "    print(\"Press 'Enter' to capture the image.\")\n",
    "    \n",
    "    while True:\n",
    "        # Capture frame-by-frame\n",
    "        ret, frame = cap.read()\n",
    "        \n",
    "        # Display the live video stream\n",
    "        cv2.imshow('Live Feed - Press Enter to Capture', frame)\n",
    "        \n",
    "        # Wait for the Enter key to capture the image (key code 13)\n",
    "        if cv2.waitKey(1) == 13:  # 13 is the Enter key\n",
    "            break\n",
    "    \n",
    "    # Release the webcam and close any OpenCV windows\n",
    "    cap.release()\n",
    "    cv2.destroyAllWindows()\n",
    "    \n",
    "    if not ret:\n",
    "        print(\"Error: Could not read image from webcam.\")\n",
    "        return None\n",
    "    \n",
    "    return frame\n",
    "\n",
    "image = capture_image_on_enter()\n",
    "\n",
    "if image is not None:\n",
    "    \n",
    "    cv2.imwrite('captured_image.jpg', image)\n",
    "    \n",
    "    print(\"Image captured and saved as 'captured_image.jpg'.\")\n",
    "else:\n",
    "    print(\"No image captured.\")\n"
   ]
  },
  {
   "cell_type": "code",
   "execution_count": 100,
   "id": "0a074388-b073-4d8f-9afd-a68b38c565a5",
   "metadata": {},
   "outputs": [
    {
     "name": "stdout",
     "output_type": "stream",
     "text": [
      "\u001b[1m1/1\u001b[0m \u001b[32m━━━━━━━━━━━━━━━━━━━━\u001b[0m\u001b[37m\u001b[0m \u001b[1m0s\u001b[0m 42ms/step\n",
      "[[2.5312405e-04 9.9974686e-01]]\n",
      "The image is classified as non-Biodegradable\n"
     ]
    }
   ],
   "source": [
    "from tensorflow.keras.preprocessing import image\n",
    "import numpy as np\n",
    "\n",
    "# Assuming `model` is your trained model in the notebook\n",
    "\n",
    "# Load an image file for testing\n",
    "img_path = 'captured_image.jpg'\n",
    "img = image.load_img(img_path, target_size=(64, 64))  # Adjust size as per your model's input\n",
    "\n",
    "# Convert the image to a numpy array\n",
    "img_array = image.img_to_array(img)\n",
    "\n",
    "# Expand dimensions to match the model's input shape\n",
    "img_array = np.expand_dims(img_array, axis=0)\n",
    "\n",
    "# Normalize the image if your model requires it\n",
    "img_array = img_array / 255.0  # Example normalization, adjust if needed\n",
    "\n",
    "# Get the prediction\n",
    "prediction = vgg16_model.predict(img_array)\n",
    "\n",
    "# Print the prediction to understand its structure\n",
    "print(prediction)\n",
    "\n",
    "predicted_class = np.argmax(prediction[0])\n",
    "\n",
    "if predicted_class >=0.5:\n",
    "    print(\"The image is classified as non-Biodegradable\")\n",
    "else:\n",
    "    print(\"The image is classified as Biodegradable\")\n"
   ]
  },
  {
   "cell_type": "code",
   "execution_count": null,
   "id": "c39c1e34-c73e-4710-a5a5-179a7d6fabd9",
   "metadata": {},
   "outputs": [],
   "source": []
  },
  {
   "cell_type": "code",
   "execution_count": null,
   "id": "960a898c-f225-4dfd-9cb3-2371702e3e8d",
   "metadata": {},
   "outputs": [],
   "source": []
  }
 ],
 "metadata": {
  "kernelspec": {
   "display_name": "Python 3 (ipykernel)",
   "language": "python",
   "name": "python3"
  },
  "language_info": {
   "codemirror_mode": {
    "name": "ipython",
    "version": 3
   },
   "file_extension": ".py",
   "mimetype": "text/x-python",
   "name": "python",
   "nbconvert_exporter": "python",
   "pygments_lexer": "ipython3",
   "version": "3.11.4"
  }
 },
 "nbformat": 4,
 "nbformat_minor": 5
}
